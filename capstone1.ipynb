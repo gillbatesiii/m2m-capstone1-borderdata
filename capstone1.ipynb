{
 "cells": [
  {
   "cell_type": "code",
   "id": "initial_id",
   "metadata": {
    "collapsed": true,
    "jupyter": {
     "is_executing": true
    }
   },
   "source": [
    "import pandas as pd\n",
    "from sodapy import Socrata\n",
    "from typing import Final\n",
    "import os\n"
   ],
   "outputs": [],
   "execution_count": null
  },
  {
   "metadata": {
    "jupyter": {
     "is_executing": true
    }
   },
   "cell_type": "code",
   "source": [
    "# Constants\n",
    "APP_TOKEN: Final = os.getenv(\"SOCRATA_APP_TOKEN\")\n",
    "WHERE_CLAUSE: Final = \"border = 'US-Canada Border' AND date >= '2017-01-01'\"\n",
    "DATASET_IDENTIFIER: Final = \"keg4-3bc2\""
   ],
   "id": "2d8b80f23479775f",
   "outputs": [],
   "execution_count": null
  },
  {
   "metadata": {
    "jupyter": {
     "is_executing": true
    }
   },
   "cell_type": "code",
   "source": [
    "app_token_status = \"\"\n",
    "if APP_TOKEN:\n",
    "    app_token_status = \"Successfully loaded app token.\"\n",
    "else:\n",
    "    app_token_status = \"Warning: APP_TOKEN not found.\""
   ],
   "id": "ac6d2cbb016f6b89",
   "outputs": [],
   "execution_count": null
  },
  {
   "metadata": {},
   "cell_type": "code",
   "outputs": [],
   "execution_count": null,
   "source": "client = Socrata(\"data.bts.gov\", APP_TOKEN)\n",
   "id": "7396a5b0fb764259"
  },
  {
   "metadata": {},
   "cell_type": "code",
   "outputs": [],
   "execution_count": null,
   "source": [
    "# Fetch number of expected results for desired Sodapy query\n",
    "row_count = client.get(\n",
    "    DATASET_IDENTIFIER,\n",
    "    query=f\"SELECT count(*) WHERE {WHERE_CLAUSE}\",\n",
    ")[0][\"count\"]\n",
    "print(\"row_count\", row_count)"
   ],
   "id": "8e56018362159d42"
  },
  {
   "metadata": {},
   "cell_type": "code",
   "outputs": [],
   "execution_count": null,
   "source": [
    "row_count = int(row_count)\n",
    "results = client.get(DATASET_IDENTIFIER, limit=row_count, where=WHERE_CLAUSE)\n",
    "client.close()\n",
    "print(\"length\", len(results))\n"
   ],
   "id": "692a5b193a87e8d8"
  },
  {
   "metadata": {},
   "cell_type": "code",
   "outputs": [],
   "execution_count": null,
   "source": [
    "# Convert to pandas DataFrame\n",
    "results_df = pd.DataFrame.from_records(results)"
   ],
   "id": "8af3f44b835a1059"
  },
  {
   "metadata": {},
   "cell_type": "markdown",
   "source": "Data cleaning",
   "id": "904a721e5d92ea33"
  },
  {
   "metadata": {},
   "cell_type": "code",
   "outputs": [],
   "execution_count": null,
   "source": [
    "# remove unneeded columns\n",
    "results_df.drop(columns=[\"point\"], inplace=True)"
   ],
   "id": "20178fda16165104"
  },
  {
   "metadata": {},
   "cell_type": "code",
   "outputs": [],
   "execution_count": null,
   "source": [
    "# Null values\n",
    "nulls_df = results_df[results_df.isnull().any(axis=1)]\n",
    "print(\"Null values\")\n",
    "print(nulls_df)\n",
    "\n",
    "# As of 8/17/2025, the \"state\" field of the new port of entry \"Chief Mountain Mt Poe\" hasn't been populated yet.\n",
    "# Will set \"state\" to \"MT\" for all records with port_code == \"3315\"\n",
    "results_df[\"port_code\"] = results_df[\"port_code\"].astype(str)\n",
    "results_df.loc[results_df[\"port_code\"] == \"3315\", \"state\"] = \"MT\"\n",
    "\n",
    "# Check null values again\n",
    "print(\"Check null values again\")\n",
    "print(results_df[results_df.isnull().any(axis=1)])\n",
    "\n",
    "print(\"Check rows with port code 3315\")\n",
    "print(results_df.loc[results_df[\"port_code\"] == \"3315\"])"
   ],
   "id": "79e604e25e68ab5c"
  },
  {
   "metadata": {},
   "cell_type": "code",
   "outputs": [],
   "execution_count": null,
   "source": [
    "# Sanity check\n",
    "print(results_df)"
   ],
   "id": "94fd8c081948fec5"
  }
 ],
 "metadata": {
  "kernelspec": {
   "display_name": "Python 3",
   "language": "python",
   "name": "python3"
  },
  "language_info": {
   "codemirror_mode": {
    "name": "ipython",
    "version": 2
   },
   "file_extension": ".py",
   "mimetype": "text/x-python",
   "name": "python",
   "nbconvert_exporter": "python",
   "pygments_lexer": "ipython2",
   "version": "2.7.6"
  }
 },
 "nbformat": 4,
 "nbformat_minor": 5
}
