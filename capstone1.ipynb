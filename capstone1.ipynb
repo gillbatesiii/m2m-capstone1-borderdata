{
  "cells": [
    {
      "cell_type": "markdown",
      "metadata": {
        "id": "view-in-github",
        "colab_type": "text"
      },
      "source": [
        "<a href=\"https://colab.research.google.com/github/gillbatesiii/m2m-capstone1-borderdata/blob/master/capstone1.ipynb\" target=\"_parent\"><img src=\"https://colab.research.google.com/assets/colab-badge.svg\" alt=\"Open In Colab\"/></a>"
      ]
    },
    {
      "cell_type": "markdown",
      "source": [
        "Analysis on land border crossings from Canada to the US\n",
        "\n"
      ],
      "metadata": {
        "id": "NQBdCx-raGD7"
      },
      "id": "NQBdCx-raGD7"
    },
    {
      "metadata": {
        "id": "904a721e5d92ea33"
      },
      "cell_type": "markdown",
      "source": [
        "## Initial setup"
      ],
      "id": "904a721e5d92ea33"
    },
    {
      "cell_type": "code",
      "id": "initial_id",
      "metadata": {
        "collapsed": true,
        "jupyter": {
          "is_executing": true
        },
        "id": "initial_id"
      },
      "source": [
        "import pandas as pd\n",
        "from sodapy import Socrata\n",
        "from typing import Final\n",
        "from google.colab import userdata\n"
      ],
      "outputs": [],
      "execution_count": 2
    },
    {
      "metadata": {
        "id": "2d8b80f23479775f"
      },
      "cell_type": "code",
      "outputs": [],
      "execution_count": 3,
      "source": [
        "# Constants\n",
        "APP_TOKEN: Final = userdata.get('CAPSTONE1_SOCRATA_APP_TOKEN')\n",
        "WHERE_CLAUSE: Final = \"border = 'US-Canada Border' AND date >= '2017-01-01'\"\n",
        "DATASET_IDENTIFIER: Final = \"keg4-3bc2\""
      ],
      "id": "2d8b80f23479775f"
    },
    {
      "metadata": {
        "colab": {
          "base_uri": "https://localhost:8080/"
        },
        "id": "ac6d2cbb016f6b89",
        "outputId": "b7c62f6c-eb95-4805-9f96-7ce94e9f24ff"
      },
      "cell_type": "code",
      "outputs": [
        {
          "output_type": "stream",
          "name": "stdout",
          "text": [
            "Successfully loaded app token.\n"
          ]
        }
      ],
      "execution_count": 5,
      "source": [
        "app_token_status = \"\"\n",
        "if APP_TOKEN:\n",
        "    app_token_status = \"Successfully loaded app token.\"\n",
        "else:\n",
        "    app_token_status = \"Warning: APP_TOKEN not found.\"\n",
        "print(app_token_status)"
      ],
      "id": "ac6d2cbb016f6b89"
    },
    {
      "metadata": {
        "id": "7396a5b0fb764259"
      },
      "cell_type": "code",
      "outputs": [],
      "execution_count": 6,
      "source": [
        "client = Socrata(\"data.bts.gov\", APP_TOKEN)\n"
      ],
      "id": "7396a5b0fb764259"
    },
    {
      "metadata": {
        "id": "8e56018362159d42"
      },
      "cell_type": "code",
      "outputs": [],
      "execution_count": null,
      "source": [
        "# Fetch number of expected results for desired Sodapy query\n",
        "row_count = client.get(\n",
        "    DATASET_IDENTIFIER,\n",
        "    query=f\"SELECT count(*) WHERE {WHERE_CLAUSE}\",\n",
        ")[0][\"count\"]\n",
        "print(\"row_count\", row_count)"
      ],
      "id": "8e56018362159d42"
    },
    {
      "metadata": {
        "id": "692a5b193a87e8d8"
      },
      "cell_type": "code",
      "outputs": [],
      "execution_count": null,
      "source": [
        "row_count = int(row_count)\n",
        "results = client.get(DATASET_IDENTIFIER, limit=row_count, where=WHERE_CLAUSE)\n",
        "client.close()\n",
        "print(\"length\", len(results))\n"
      ],
      "id": "692a5b193a87e8d8"
    },
    {
      "metadata": {
        "id": "8af3f44b835a1059"
      },
      "cell_type": "code",
      "outputs": [],
      "execution_count": null,
      "source": [
        "# Convert to pandas DataFrame\n",
        "results_df = pd.DataFrame.from_records(results)"
      ],
      "id": "8af3f44b835a1059"
    },
    {
      "cell_type": "markdown",
      "source": [
        "# Data cleaning"
      ],
      "metadata": {
        "id": "DWDG0dPGZqKy"
      },
      "id": "DWDG0dPGZqKy"
    },
    {
      "metadata": {
        "id": "20178fda16165104"
      },
      "cell_type": "code",
      "outputs": [],
      "execution_count": null,
      "source": [
        "# remove unneeded columns\n",
        "results_df.drop(columns=[\"point\"], inplace=True)"
      ],
      "id": "20178fda16165104"
    },
    {
      "metadata": {
        "id": "79e604e25e68ab5c"
      },
      "cell_type": "code",
      "outputs": [],
      "execution_count": null,
      "source": [
        "# Null values\n",
        "nulls_df = results_df[results_df.isnull().any(axis=1)]\n",
        "print(\"Null values\")\n",
        "print(nulls_df)\n",
        "\n",
        "# As of 8/17/2025, the \"state\" field of the new port of entry \"Chief Mountain Mt Poe\" hasn't been populated yet.\n",
        "# Will set \"state\" to \"MT\" for all records with port_code == \"3315\"\n",
        "results_df[\"port_code\"] = results_df[\"port_code\"].astype(str)\n",
        "results_df.loc[results_df[\"port_code\"] == \"3315\", \"state\"] = \"MT\"\n",
        "\n",
        "# Check null values again\n",
        "print(\"Check null values again\")\n",
        "print(results_df[results_df.isnull().any(axis=1)])\n",
        "\n",
        "print(\"Check rows with port code 3315\")\n",
        "print(results_df.loc[results_df[\"port_code\"] == \"3315\"])"
      ],
      "id": "79e604e25e68ab5c"
    },
    {
      "metadata": {
        "id": "94fd8c081948fec5"
      },
      "cell_type": "code",
      "outputs": [],
      "execution_count": null,
      "source": [
        "# Sanity check\n",
        "print(results_df)"
      ],
      "id": "94fd8c081948fec5"
    },
    {
      "cell_type": "markdown",
      "source": [
        "# New Section"
      ],
      "metadata": {
        "id": "BytGQHbOafE4"
      },
      "id": "BytGQHbOafE4"
    }
  ],
  "metadata": {
    "kernelspec": {
      "display_name": "Python 3",
      "language": "python",
      "name": "python3"
    },
    "language_info": {
      "codemirror_mode": {
        "name": "ipython",
        "version": 2
      },
      "file_extension": ".py",
      "mimetype": "text/x-python",
      "name": "python",
      "nbconvert_exporter": "python",
      "pygments_lexer": "ipython2",
      "version": "2.7.6"
    },
    "colab": {
      "provenance": [],
      "include_colab_link": true
    }
  },
  "nbformat": 4,
  "nbformat_minor": 5
}